{
 "cells": [
  {
   "cell_type": "code",
   "execution_count": 1,
   "id": "e46033af",
   "metadata": {},
   "outputs": [],
   "source": [
    "import pandas as pd\n",
    "import numpy as np\n",
    "import sqlite3\n",
    "import seaborn as sns\n",
    "import io\n",
    "from sqlite3 import Error"
   ]
  },
  {
   "cell_type": "code",
   "execution_count": 2,
   "id": "a74c047d",
   "metadata": {
    "slideshow": {
     "slide_type": "slide"
    }
   },
   "outputs": [],
   "source": [
    "#  Création de et connexion à la base 'house'\n",
    "conn = sqlite3.connect('house') \n",
    "c = conn.cursor()\n",
    "\n",
    "# Création des tables 'city' et 'house_price'\n",
    "c.execute('''\n",
    "          CREATE TABLE IF NOT EXISTS city\n",
    "          ([city_id] INTEGER PRIMARY KEY AUTOINCREMENT, [city_name] TEXT)\n",
    "          ''')\n",
    "          \n",
    "c.execute('''\n",
    "          CREATE TABLE IF NOT EXISTS house\n",
    "          ([house_id] INTEGER PRIMARY KEY AUTOINCREMENT, [price] INTEGER, [city_id] INTEGER SECONDARY KEY)\n",
    "          ''')\n",
    "                     \n",
    "conn.commit()"
   ]
  },
  {
   "cell_type": "code",
   "execution_count": 3,
   "id": "15426ead",
   "metadata": {
    "slideshow": {
     "slide_type": "subslide"
    }
   },
   "outputs": [],
   "source": [
    "conn = sqlite3.connect('house') \n",
    "c = conn.cursor()\n",
    "            \n",
    "# Insertion de valeurs dans les tables\n",
    "c.execute('''\n",
    "          INSERT INTO city (city_name)\n",
    "\n",
    "                VALUES\n",
    "                ('Shoreline'),\n",
    "                ('Seattle'),\n",
    "                ('Kent'),\n",
    "                ('Bellevue'),\n",
    "                ('Redmond'),\n",
    "                ('Mapple Valley'),\n",
    "                ('North Bend'),\n",
    "                ('Sammamish'),\n",
    "                ('Auburn'),\n",
    "                ('Des Moines'),\n",
    "                ('Lake Forest Park')\n",
    "          ''')\n",
    "\n",
    "c.execute('''\n",
    "          INSERT INTO house (price, city_id)\n",
    "\n",
    "                VALUES\n",
    "                (933979,8),\n",
    "                (3651820,1),\n",
    "                (2556185,2),\n",
    "                (2850589,10),\n",
    "                (2349245,9),\n",
    "                (3671374,7),\n",
    "                (3856950,11),\n",
    "                (2081038,8),\n",
    "                (2842026,1),\n",
    "                (4249737,10),\n",
    "                (990118,9),\n",
    "                (4650160,1),\n",
    "                (2510241,3),\n",
    "                (90103,1),\n",
    "                (1996253,11)\n",
    "          ''')\n",
    "\n",
    "conn.commit()"
   ]
  },
  {
   "cell_type": "code",
   "execution_count": 4,
   "id": "1884ac43",
   "metadata": {
    "slideshow": {
     "slide_type": "subslide"
    }
   },
   "outputs": [
    {
     "name": "stdout",
     "output_type": "stream",
     "text": [
      "    city_name           city_id\n",
      "0           1         Shoreline\n",
      "1           2           Seattle\n",
      "2           3              Kent\n",
      "3           4          Bellevue\n",
      "4           5           Redmond\n",
      "5           6     Mapple Valley\n",
      "6           7        North Bend\n",
      "7           8         Sammamish\n",
      "8           9            Auburn\n",
      "9          10        Des Moines\n",
      "10         11  Lake Forest Park\n"
     ]
    }
   ],
   "source": [
    "conn = sqlite3.connect('house') \n",
    "c = conn.cursor()\n",
    "\n",
    "\n",
    "# Affichage des données des 2 tables avec une jointure                   \n",
    "c.execute('''\n",
    "          SELECT *\n",
    "         from city\n",
    "          ''')\n",
    "\n",
    "df_city = pd.DataFrame(c.fetchall(), columns=['city_name','city_id'])\n",
    "\n",
    "print (df_city)"
   ]
  },
  {
   "cell_type": "code",
   "execution_count": 5,
   "id": "25ea7a54",
   "metadata": {
    "slideshow": {
     "slide_type": "subslide"
    }
   },
   "outputs": [
    {
     "name": "stdout",
     "output_type": "stream",
     "text": [
      "    house_id    price  city_id\n",
      "0          1   933979        8\n",
      "1          2  3651820        1\n",
      "2          3  2556185        2\n",
      "3          4  2850589       10\n",
      "4          5  2349245        9\n",
      "5          6  3671374        7\n",
      "6          7  3856950       11\n",
      "7          8  2081038        8\n",
      "8          9  2842026        1\n",
      "9         10  4249737       10\n",
      "10        11   990118        9\n",
      "11        12  4650160        1\n",
      "12        13  2510241        3\n",
      "13        14    90103        1\n",
      "14        15  1996253       11\n"
     ]
    }
   ],
   "source": [
    "conn = sqlite3.connect('house') \n",
    "c = conn.cursor()\n",
    "\n",
    "\n",
    "# Affichage des données des 2 tables avec une jointure                   \n",
    "c.execute('''\n",
    "          SELECT *\n",
    "         from house\n",
    "          ''')\n",
    "\n",
    "df_house = pd.DataFrame(c.fetchall(), columns=['house_id','price','city_id'])\n",
    "\n",
    "print (df_house)"
   ]
  },
  {
   "cell_type": "code",
   "execution_count": 6,
   "id": "8a7a891a",
   "metadata": {
    "slideshow": {
     "slide_type": "slide"
    }
   },
   "outputs": [
    {
     "name": "stdout",
     "output_type": "stream",
     "text": [
      "          city_name  total_price\n",
      "0            Auburn      3339363\n",
      "1        Des Moines      7100326\n",
      "2              Kent      2510241\n",
      "3  Lake Forest Park      5853203\n",
      "4        North Bend      3671374\n",
      "5         Sammamish      3015017\n",
      "6           Seattle      2556185\n",
      "7         Shoreline     11234109\n"
     ]
    }
   ],
   "source": [
    "conn = sqlite3.connect('house') \n",
    "c = conn.cursor()\n",
    "\n",
    "\n",
    "# Affichage des données des 2 tables avec une jointure et somme sur les prix dans chaque ville                  \n",
    "c.execute('''\n",
    "          SELECT city_name, sum(price)\n",
    "         from house\n",
    "         inner join city on city.city_id == house.city_id\n",
    "         group by city_name\n",
    "          ''')\n",
    "\n",
    "df_total_price_for_city = pd.DataFrame(c.fetchall(), columns=['city_name','total_price'])\n",
    "\n",
    "print (df_total_price_for_city)"
   ]
  }
 ],
 "metadata": {
  "celltoolbar": "Diaporama",
  "kernelspec": {
   "display_name": "Python 3 (ipykernel)",
   "language": "python",
   "name": "python3"
  },
  "language_info": {
   "codemirror_mode": {
    "name": "ipython",
    "version": 3
   },
   "file_extension": ".py",
   "mimetype": "text/x-python",
   "name": "python",
   "nbconvert_exporter": "python",
   "pygments_lexer": "ipython3",
   "version": "3.9.12"
  }
 },
 "nbformat": 4,
 "nbformat_minor": 5
}
